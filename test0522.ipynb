{
 "cells": [
  {
   "cell_type": "code",
   "execution_count": 1,
   "metadata": {},
   "outputs": [],
   "source": [
    "from src.trafficSimulator.core.vehicle import Vehicle\n",
    "from src.trafficSimulator import Vehicle"
   ]
  },
  {
   "cell_type": "code",
   "execution_count": 2,
   "metadata": {},
   "outputs": [
    {
     "name": "stdout",
     "output_type": "stream",
     "text": [
      "adding vehicle\n",
      "adding vehicle\n",
      "adding vehicle\n",
      "adding vehicle\n",
      "adding vehicle\n",
      "adding vehicle\n",
      "adding vehicle\n",
      "adding vehicle\n",
      "adding vehicle\n",
      "adding vehicle\n",
      "adding vehicle\n",
      "adding vehicle\n",
      "adding vehicle\n",
      "adding vehicle\n",
      "adding vehicle\n",
      "adding vehicle\n",
      "adding vehicle\n"
     ]
    },
    {
     "ename": "KeyboardInterrupt",
     "evalue": "",
     "output_type": "error",
     "traceback": [
      "\u001b[1;31m---------------------------------------------------------------------------\u001b[0m",
      "\u001b[1;31mKeyboardInterrupt\u001b[0m                         Traceback (most recent call last)",
      "\u001b[1;32m~\\AppData\\Local\\Temp\\ipykernel_39892\\1887085392.py\u001b[0m in \u001b[0;36m?\u001b[1;34m()\u001b[0m\n\u001b[0;32m     54\u001b[0m \u001b[1;31m# sim.add_vehicle(v)\u001b[0m\u001b[1;33m\u001b[0m\u001b[1;33m\u001b[0m\u001b[0m\n\u001b[0;32m     55\u001b[0m \u001b[1;33m\u001b[0m\u001b[0m\n\u001b[0;32m     56\u001b[0m \u001b[0mwin\u001b[0m \u001b[1;33m=\u001b[0m \u001b[0mWindow\u001b[0m\u001b[1;33m(\u001b[0m\u001b[0msim\u001b[0m\u001b[1;33m)\u001b[0m\u001b[1;33m\u001b[0m\u001b[1;33m\u001b[0m\u001b[0m\n\u001b[0;32m     57\u001b[0m \u001b[0mwin\u001b[0m\u001b[1;33m.\u001b[0m\u001b[0mrun\u001b[0m\u001b[1;33m(\u001b[0m\u001b[1;33m)\u001b[0m\u001b[1;33m\u001b[0m\u001b[1;33m\u001b[0m\u001b[0m\n\u001b[1;32m---> 58\u001b[1;33m \u001b[0mwin\u001b[0m\u001b[1;33m.\u001b[0m\u001b[0mshow\u001b[0m\u001b[1;33m(\u001b[0m\u001b[1;33m)\u001b[0m\u001b[1;33m\u001b[0m\u001b[1;33m\u001b[0m\u001b[0m\n\u001b[0m",
      "\u001b[1;32mc:\\programing\\trafficSimulator_v2\\src\\trafficSimulator\\visualizer\\window.py\u001b[0m in \u001b[0;36m?\u001b[1;34m(self)\u001b[0m\n\u001b[0;32m    334\u001b[0m     \u001b[1;32mdef\u001b[0m \u001b[0mshow\u001b[0m\u001b[1;33m(\u001b[0m\u001b[0mself\u001b[0m\u001b[1;33m)\u001b[0m\u001b[1;33m:\u001b[0m\u001b[1;33m\u001b[0m\u001b[1;33m\u001b[0m\u001b[0m\n\u001b[0;32m    335\u001b[0m         \u001b[0mdpg\u001b[0m\u001b[1;33m.\u001b[0m\u001b[0mshow_viewport\u001b[0m\u001b[1;33m(\u001b[0m\u001b[1;33m)\u001b[0m\u001b[1;33m\u001b[0m\u001b[1;33m\u001b[0m\u001b[0m\n\u001b[0;32m    336\u001b[0m         \u001b[1;32mwhile\u001b[0m \u001b[0mdpg\u001b[0m\u001b[1;33m.\u001b[0m\u001b[0mis_dearpygui_running\u001b[0m\u001b[1;33m(\u001b[0m\u001b[1;33m)\u001b[0m\u001b[1;33m:\u001b[0m\u001b[1;33m\u001b[0m\u001b[1;33m\u001b[0m\u001b[0m\n\u001b[0;32m    337\u001b[0m             \u001b[0mself\u001b[0m\u001b[1;33m.\u001b[0m\u001b[0mrender_loop\u001b[0m\u001b[1;33m(\u001b[0m\u001b[1;33m)\u001b[0m\u001b[1;33m\u001b[0m\u001b[1;33m\u001b[0m\u001b[0m\n\u001b[1;32m--> 338\u001b[1;33m             \u001b[0mdpg\u001b[0m\u001b[1;33m.\u001b[0m\u001b[0mrender_dearpygui_frame\u001b[0m\u001b[1;33m(\u001b[0m\u001b[1;33m)\u001b[0m\u001b[1;33m\u001b[0m\u001b[1;33m\u001b[0m\u001b[0m\n\u001b[0m\u001b[0;32m    339\u001b[0m         \u001b[0mdpg\u001b[0m\u001b[1;33m.\u001b[0m\u001b[0mdestroy_context\u001b[0m\u001b[1;33m(\u001b[0m\u001b[1;33m)\u001b[0m\u001b[1;33m\u001b[0m\u001b[1;33m\u001b[0m\u001b[0m\n",
      "\u001b[1;32mc:\\Users\\jyj09\\miniconda3\\envs\\programing\\Lib\\site-packages\\dearpygui\\dearpygui.py\u001b[0m in \u001b[0;36m?\u001b[1;34m(**kwargs)\u001b[0m\n\u001b[0;32m   8917\u001b[0m         \u001b[0mReturns\u001b[0m\u001b[1;33m:\u001b[0m\u001b[1;33m\u001b[0m\u001b[1;33m\u001b[0m\u001b[0m\n\u001b[0;32m   8918\u001b[0m                 \u001b[1;32mNone\u001b[0m\u001b[1;33m\u001b[0m\u001b[1;33m\u001b[0m\u001b[0m\n\u001b[0;32m   8919\u001b[0m \t\"\"\"\n\u001b[0;32m   8920\u001b[0m \u001b[1;33m\u001b[0m\u001b[0m\n\u001b[1;32m-> 8921\u001b[1;33m         \u001b[1;32mreturn\u001b[0m \u001b[0minternal_dpg\u001b[0m\u001b[1;33m.\u001b[0m\u001b[0mrender_dearpygui_frame\u001b[0m\u001b[1;33m(\u001b[0m\u001b[1;33m**\u001b[0m\u001b[0mkwargs\u001b[0m\u001b[1;33m)\u001b[0m\u001b[1;33m\u001b[0m\u001b[1;33m\u001b[0m\u001b[0m\n\u001b[0m",
      "\u001b[1;31mKeyboardInterrupt\u001b[0m: "
     ]
    },
    {
     "ename": "",
     "evalue": "",
     "output_type": "error",
     "traceback": [
      "\u001b[1;31m현재 셀 또는 이전 셀에서 코드를 실행하는 동안 Kernel이 충돌했습니다. \n",
      "\u001b[1;31m셀의 코드를 검토하여 가능한 오류 원인을 식별하세요. \n",
      "\u001b[1;31m자세한 내용을 보려면 <a href='https://aka.ms/vscodeJupyterKernelCrash'>여기</a>를 클릭하세요. \n",
      "\u001b[1;31m자세한 내용은 Jupyter <a href='command:jupyter.viewOutput'>로그</a>를 참조하세요."
     ]
    }
   ],
   "source": [
    "#%%\n",
    "\n",
    "from src.trafficSimulator import *\n",
    "\n",
    "sim = Simulation()\n",
    "\n",
    "lane_space = 10\n",
    "intersection_size = 20\n",
    "length = 100\n",
    "\n",
    "# SOUTH, EAST, NORTH, WEST\n",
    "\n",
    "# Intersection in\n",
    "sim.create_segment((lane_space/2, length+intersection_size/2), (lane_space/2, intersection_size/2))\n",
    "sim.create_segment((length+intersection_size/2, -lane_space/2), (intersection_size/2, -lane_space/2))\n",
    "sim.create_segment((-lane_space/2, -length-intersection_size/2), (-lane_space/2, -intersection_size/2))\n",
    "sim.create_segment((-length-intersection_size/2, lane_space/2), (-intersection_size/2, lane_space/2))\n",
    "# Intersection out\n",
    "sim.create_segment((-lane_space/2, intersection_size/2), (-lane_space/2, length+intersection_size/2))\n",
    "sim.create_segment((intersection_size/2, lane_space/2), (length+intersection_size/2, lane_space/2))\n",
    "sim.create_segment((lane_space/2, -intersection_size/2), (lane_space/2, -length-intersection_size/2))\n",
    "sim.create_segment((-intersection_size/2, -lane_space/2), (-length-intersection_size/2, -lane_space/2))\n",
    "# Straight\n",
    "sim.create_segment((lane_space/2, intersection_size/2), (lane_space/2, -intersection_size/2))\n",
    "sim.create_segment((intersection_size/2, -lane_space/2), (-intersection_size/2, -lane_space/2))\n",
    "sim.create_segment((-lane_space/2, -intersection_size/2), (-lane_space/2, intersection_size/2))\n",
    "sim.create_segment((-intersection_size/2, lane_space/2), (intersection_size/2, lane_space/2))\n",
    "# Right turn\n",
    "sim.create_quadratic_bezier_curve((lane_space/2, intersection_size/2), (lane_space/2, lane_space/2), (intersection_size/2, lane_space/2))\n",
    "sim.create_quadratic_bezier_curve((intersection_size/2, -lane_space/2), (lane_space/2, -lane_space/2), (lane_space/2, -intersection_size/2))\n",
    "sim.create_quadratic_bezier_curve((-lane_space/2, -intersection_size/2), (-lane_space/2, -lane_space/2), (-intersection_size/2, -lane_space/2))\n",
    "sim.create_quadratic_bezier_curve((-intersection_size/2, lane_space/2), (-lane_space/2, lane_space/2), (-lane_space/2, intersection_size/2))\n",
    "# Left turn\n",
    "sim.create_quadratic_bezier_curve((lane_space/2, intersection_size/2), (lane_space/2, -lane_space/2), (-intersection_size/2, -lane_space/2))\n",
    "sim.create_quadratic_bezier_curve((intersection_size/2, -lane_space/2), (-lane_space/2, -lane_space/2), (-lane_space/2, intersection_size/2))\n",
    "sim.create_quadratic_bezier_curve((-lane_space/2, -intersection_size/2), (-lane_space/2, lane_space/2), (intersection_size/2, lane_space/2))\n",
    "sim.create_quadratic_bezier_curve((-intersection_size/2, lane_space/2), (lane_space/2, lane_space/2), (lane_space/2, -intersection_size/2))\n",
    "\n",
    "vg = VehicleGenerator({\n",
    "    'vehicles': [\n",
    "        (1, {'path': [0, 6], 'v': 16.6}),\n",
    "        (1, {'path': [0, 12, 5], 'v': 16.6})\n",
    "        ]\n",
    "    })\n",
    "\n",
    "sim.add_vehicle_generator(vg)\n",
    "\n",
    "\n",
    "\n",
    "# v = Vehicle({'path': [0], 'x': 20, 'v':16.6})\n",
    "# sim.add_vehicle(v)\n",
    "\n",
    "# v = Vehicle({'path': [0]})\n",
    "# sim.add_vehicle(v)\n",
    "\n",
    "win = Window(sim)\n",
    "win.run()\n",
    "win.show()\n"
   ]
  }
 ],
 "metadata": {
  "kernelspec": {
   "display_name": "base",
   "language": "python",
   "name": "python3"
  },
  "language_info": {
   "codemirror_mode": {
    "name": "ipython",
    "version": 3
   },
   "file_extension": ".py",
   "mimetype": "text/x-python",
   "name": "python",
   "nbconvert_exporter": "python",
   "pygments_lexer": "ipython3",
   "version": "3.12.2"
  }
 },
 "nbformat": 4,
 "nbformat_minor": 2
}
